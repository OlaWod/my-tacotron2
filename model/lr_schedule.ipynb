{
  "nbformat": 4,
  "nbformat_minor": 0,
  "metadata": {
    "colab": {
      "name": "lr-schedule.ipynb",
      "provenance": [],
      "collapsed_sections": []
    },
    "kernelspec": {
      "name": "python3",
      "display_name": "Python 3"
    },
    "language_info": {
      "name": "python"
    }
  },
  "cells": [
    {
      "cell_type": "code",
      "metadata": {
        "id": "30IwgwmsLDIw"
      },
      "source": [
        "import numpy as np\n",
        "import matplotlib.pyplot as plt"
      ],
      "execution_count": 1,
      "outputs": []
    },
    {
      "cell_type": "code",
      "metadata": {
        "id": "kpeHMV8i4sAr"
      },
      "source": [
        "def get_lr_scale(current_step):\n",
        "  n_warmup_steps = 4000\n",
        "  anneal_steps = [300000, 400000, 500000]\n",
        "  anneal_rate = 0.3\n",
        "\n",
        "  lr = np.min(\n",
        "      [\n",
        "          np.power(current_step, -0.5),\n",
        "          np.power(n_warmup_steps, -1.5) * current_step,\n",
        "      ]\n",
        "    )\n",
        "  for s in anneal_steps:\n",
        "    if current_step > s:\n",
        "      lr = lr * anneal_rate\n",
        "  return lr\n",
        "\n",
        "def update_learning_rate(current_step):\n",
        "  \"\"\" Learning rate scheduling per step \"\"\"\n",
        "  init_lr=np.power(256, -0.5)\n",
        "  lr = init_lr * get_lr_scale(current_step)\n",
        "\n",
        "  return lr"
      ],
      "execution_count": 2,
      "outputs": []
    },
    {
      "cell_type": "code",
      "metadata": {
        "id": "2NuchR-y4jN9"
      },
      "source": [
        "step = list(range(1,900000))"
      ],
      "execution_count": 8,
      "outputs": []
    },
    {
      "cell_type": "code",
      "metadata": {
        "id": "mDiRf5936TMu"
      },
      "source": [
        "lr = []\n",
        "for s in step:\n",
        "  lr.append(update_learning_rate(s))"
      ],
      "execution_count": 10,
      "outputs": []
    },
    {
      "cell_type": "code",
      "metadata": {
        "colab": {
          "base_uri": "https://localhost:8080/"
        },
        "id": "02LOtq8_7lSb",
        "outputId": "ce5aa66c-d7b0-40d5-f3ae-0f7826f82edf"
      },
      "source": [
        "print(np.power(256, -0.5))\n",
        "print(lr[0])\n",
        "print(lr[4000])"
      ],
      "execution_count": 15,
      "outputs": [
        {
          "output_type": "stream",
          "text": [
            "0.0625\n",
            "2.4705294220065465e-07\n",
            "0.0009880882654879073\n"
          ],
          "name": "stdout"
        }
      ]
    },
    {
      "cell_type": "code",
      "metadata": {
        "colab": {
          "base_uri": "https://localhost:8080/",
          "height": 283
        },
        "id": "rNucII5A5vzz",
        "outputId": "4ebd51f5-c8ee-47ca-bf52-10c17f7f0656"
      },
      "source": [
        "plt.plot(step, lr)"
      ],
      "execution_count": 11,
      "outputs": [
        {
          "output_type": "execute_result",
          "data": {
            "text/plain": [
              "[<matplotlib.lines.Line2D at 0x7fa6052b5050>]"
            ]
          },
          "metadata": {
            "tags": []
          },
          "execution_count": 11
        },
        {
          "output_type": "display_data",
          "data": {
            "image/png": "[encoded data removed]",
            "text/plain": [
              "<Figure size 432x288 with 1 Axes>"
            ]
          },
          "metadata": {
            "tags": [],
            "needs_background": "light"
          }
        }
      ]
    }
  ]
}